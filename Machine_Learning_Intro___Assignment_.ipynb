{
  "nbformat": 4,
  "nbformat_minor": 0,
  "metadata": {
    "colab": {
      "provenance": []
    },
    "kernelspec": {
      "name": "python3",
      "display_name": "Python 3"
    },
    "language_info": {
      "name": "python"
    }
  },
  "cells": [
    {
      "cell_type": "markdown",
      "source": [
        "# **Machine Learning Intro | Assignment**"
      ],
      "metadata": {
        "id": "mQKcM5SlvmAG"
      }
    },
    {
      "cell_type": "markdown",
      "source": [
        "**Question 1) Explain the differences between AI, ML, Deep Learning (DL), and Data\n",
        "Science (DS).**\n",
        "\n",
        "**Ans 1) 1. Artificial Intelligence (AI)**\n",
        "\n",
        "* Broadest concept — creating machines that can perform tasks requiring human-like intelligence.\n",
        "\n",
        "* Includes reasoning, problem-solving, perception, language understanding, and decision-making.\n",
        "\n",
        "**2. Machine Learning (ML)**\n",
        "\n",
        "* Subset of AI where systems learn from data instead of following only pre-programmed rules.\n",
        "\n",
        "* Uses algorithms to identify patterns and improve performance over time.\n",
        "\n",
        "**3. Deep Learning (DL)**\n",
        "\n",
        "* Subset of ML that uses artificial neural networks with many layers to learn complex patterns.\n",
        "\n",
        "* Automatically extracts features from raw data (no need for manual feature engineering).\n",
        "\n",
        "**4. Data Science (DS)**\n",
        "\n",
        "* Interdisciplinary field focused on collecting, processing, analyzing, and visualizing data.\n",
        "\n",
        "* Uses statistics, programming, and domain knowledge to generate insights."
      ],
      "metadata": {
        "id": "PwAylHLowhmv"
      }
    },
    {
      "cell_type": "markdown",
      "source": [
        "**Question 2) What are the types of machine learning? Describe each with one\n",
        "real-world example.**\n",
        "\n",
        "**Ans 2) Types of Machine Learning**\n",
        "\n",
        "**1. Supervised Learning**\n",
        "\n",
        " The model is trained on a labeled dataset, meaning each training example has input data and the correct output.\n",
        "\n",
        "**Goal:** Learn a mapping from inputs to outputs so the model can predict outputs for new inputs.\n",
        "\n",
        "**2. Unsupervised Learning**\n",
        "\n",
        "The model is trained on unlabeled data (no predefined output).\n",
        "\n",
        "**Goal:** Discover hidden patterns, groupings, or structures in the data.\n",
        "\n",
        "**Real-World Example:**\n",
        "\n",
        "Customer Segmentation → Grouping customers based on purchasing behavior without knowing categories beforehand.\n",
        "\n",
        "**3. Reinforcement Learning (RL)**\n",
        "\n",
        "The model (agent) learns by interacting with an environment and receiving feedback in the form of rewards or penalties.\n",
        "\n",
        "**Goal:** Learn a strategy (policy) to maximize cumulative rewards over time.\n",
        "\n",
        "**Real-World Example:**\n",
        "\n",
        "Self-Driving Cars → The car learns to drive by getting rewards for safe driving and penalties for mistakes (like hitting obstacles).\n",
        "\n",
        "**4. Semi-Supervised Learning (Optional – Hybrid Approach)**\n",
        " Improve learning accuracy when labeled data is scarce and expensive to obtain.\n",
        "\n",
        "**Real-World Example:**\n",
        "\n",
        "Medical Diagnosis → A small set of labeled medical images plus many unlabeled ones helps train better disease detection models."
      ],
      "metadata": {
        "id": "7pdeDBo4xXE_"
      }
    },
    {
      "cell_type": "markdown",
      "source": [
        "**Question 3)  Define overfitting, underfitting, and the bias-variance tradeoff in machine\n",
        "learning.**\n",
        "\n",
        "**Answer 3) Overfitting**\n",
        "\n",
        " A model is said to be overfitting when it learns the training data too well, including its noise and random fluctuations.\n",
        "\n",
        " **Underfitting**\n",
        "\n",
        "A model is underfitting when it is too simple to capture the underlying patterns in the data.\n",
        "\n",
        "**Bias-Variance Tradeoff**\n",
        "\n",
        "Bias: Error from incorrect assumptions in the model (e.g., assuming a linear relationship when it’s actually nonlinear). High bias → underfitting.\n",
        "\n",
        "Variance: Error from sensitivity to small fluctuations in the training data. High variance → overfitting.\n",
        "\n",
        "**Tradeoff:**\n",
        "\n",
        "* Increasing model complexity reduces bias but increases variance.\n",
        "\n",
        "* Decreasing model complexity increases bias but reduces variance.\n",
        "\n",
        "* The goal is to find the optimal balance where both bias and variance are low enough to achieve good generalization."
      ],
      "metadata": {
        "id": "muFnuszWzIeb"
      }
    },
    {
      "cell_type": "markdown",
      "source": [
        "\n"
      ],
      "metadata": {
        "id": "WMm7xX573Owj"
      }
    },
    {
      "cell_type": "markdown",
      "source": [
        "**Question 4) What are outliers in a dataset, and list three common techniques for\n",
        "handling them.**\n",
        "\n",
        "**Answer 4) Outliers:**\n",
        "\n",
        "* Outliers are data points that significantly differ from most of the other observations in a dataset.\n",
        "* They may be unusually high or low values that lie far away from the central cluster of the data.\n",
        "* Outliers can occur due to measurement errors, data entry mistakes, or genuine variability in the data.\n",
        "\n",
        "**Three Common Techniques for Handling Outliers:**\n",
        "\n",
        "**1) Removal of Outliers**\n",
        "\n",
        "* Directly remove data points that are beyond a certain threshold (e.g., more than 3 standard deviations from the mean).\n",
        "\n",
        "* Works when the outliers are due to errors and not important to the analysis.\n",
        "\n",
        "**2) Transformation of Data**\n",
        "\n",
        "* Apply mathematical transformations (e.g., log, square root) to reduce the impact of extreme values.\n",
        "\n",
        "* Helps when the outliers are genuine but skew the distribution.\n",
        "\n",
        "**3) Capping / Winsorization**\n",
        "\n",
        "Replace extreme values with a specified percentile value (e.g., replace values above the 95th percentile with the 95th percentile)."
      ],
      "metadata": {
        "id": "dQRHWQVd4sEq"
      }
    },
    {
      "cell_type": "markdown",
      "source": [
        "**Question 5) Explain the process of handling missing values and mention one\n",
        "imputation technique for numerical and one for categorical data.**\n",
        "\n",
        "**Answer 5) 1. Process of Handling Missing Values:**\n",
        "\n",
        "When a dataset contains missing values, it can reduce the quality and accuracy of analysis. The process to handle them generally involves:\n",
        "\n",
        "**1) Identify Missing Values**\n",
        "\n",
        "Use methods like .isnull() or .info() in Python to check where data is missing.\n",
        "\n",
        "**2) Analyze the Pattern**\n",
        "\n",
        "Determine if data is missing completely at random (MCAR), at random (MAR), or not at random (MNAR).\n",
        "\n",
        "**3) Decide the Handling Strategy**\n",
        "\n",
        "**Remove:** If missing values are very few and random, remove those rows or columns.\n",
        "\n",
        "**Impute (Fill):** Replace missing values with estimated values using suitable techniques.\n",
        "\n",
        "**4) Apply the Chosen Method**\n",
        "\n",
        "Fill or remove data carefully to avoid bias.\n",
        "\n",
        "**. One Imputation Technique for Each Type:**\n",
        "\n",
        "**Numerical Data:**\n",
        "\n",
        " Mean Imputation\n",
        "\n",
        "Replace missing values with the mean of the column.\n",
        "\n",
        "Example: If column values are [2, 4, NaN, 6], fill missing with (2+4+6)/3 = 4.\n",
        "\n",
        "**Categorical Data:**\n",
        "\n",
        "Mode Imputation\n",
        "\n",
        "Replace missing values with the most frequent category in the column.\n",
        "\n",
        "Example: If categories are [\"Red\", \"Blue\", NaN, \"Red\"], fill missing with \"Red\"."
      ],
      "metadata": {
        "id": "KR3eQ6fY59Ha"
      }
    },
    {
      "cell_type": "code",
      "source": [
        "# Question 6) Write a Python program that:\n",
        "# ● Creates a synthetic imbalanced dataset with make_classification() from\n",
        "# sklearn.datasets.\n",
        "# ● Prints the class distribution.\n",
        "\n",
        "\n",
        "from sklearn.datasets import make_classification\n",
        "from collections import Counter\n",
        "\n",
        "X, y = make_classification(n_samples=1000,\n",
        "                           n_features=2,\n",
        "                           n_informative=2,\n",
        "                           n_redundant=0,\n",
        "                           n_clusters_per_class=1,\n",
        "                           weights=[0.9, 0.1],\n",
        "                           random_state=42)\n",
        "\n",
        "# Print class distribution\n",
        "class_distribution = Counter(y)\n",
        "print(\"Class Distribution:\", class_distribution)\n"
      ],
      "metadata": {
        "colab": {
          "base_uri": "https://localhost:8080/"
        },
        "id": "uxZo2dIp7GJr",
        "outputId": "a2d6d2db-8563-431c-efd3-5a83dc714a84"
      },
      "execution_count": 1,
      "outputs": [
        {
          "output_type": "stream",
          "name": "stdout",
          "text": [
            "Class Distribution: Counter({np.int64(0): 895, np.int64(1): 105})\n"
          ]
        }
      ]
    },
    {
      "cell_type": "code",
      "source": [
        "# Question 7: Implement one-hot encoding using pandas for the following list of colors:\n",
        "# ['Red', 'Green', 'Blue', 'Green', 'Red'].\n",
        "# Print the resulting dataframe.\n",
        "\n",
        "import pandas as pd\n",
        "\n",
        "# Original list of colors\n",
        "colors = ['Red', 'Green', 'Blue', 'Green', 'Red']\n",
        "\n",
        "df = pd.DataFrame({'Color': colors})\n",
        "\n",
        "one_hot_df = pd.get_dummies(df, columns=['Color'])\n",
        "\n",
        "print(one_hot_df)"
      ],
      "metadata": {
        "colab": {
          "base_uri": "https://localhost:8080/"
        },
        "id": "r6o43I8L7fX6",
        "outputId": "15fde4ba-5ffb-481a-b10d-f203e7a23fbc"
      },
      "execution_count": 3,
      "outputs": [
        {
          "output_type": "stream",
          "name": "stdout",
          "text": [
            "   Color_Blue  Color_Green  Color_Red\n",
            "0       False        False       True\n",
            "1       False         True      False\n",
            "2        True        False      False\n",
            "3       False         True      False\n",
            "4       False        False       True\n"
          ]
        }
      ]
    },
    {
      "cell_type": "code",
      "source": [
        "# Question 8)  Write a Python script to:\n",
        "# ● Generate 1000 samples from a normal distribution.\n",
        "# ● Introduce 50 random missing values.\n",
        "# ● Fill missing values with the column mean.\n",
        "# ● Plot a histogram before and after imputation.\n",
        "\n",
        "\n",
        "import numpy as np\n",
        "import pandas as pd\n",
        "import matplotlib.pyplot as plt\n",
        "\n",
        "# Step 1: Generate 1000 samples from a normal distribution\n",
        "data = np.random.normal(loc=50, scale=10, size=1000)  # mean=50, std=10\n",
        "\n",
        "# Step 2: Introduce 50 random missing values\n",
        "missing_indices = np.random.choice(len(data), size=50, replace=False)\n",
        "data[missing_indices] = np.nan\n",
        "\n",
        "# Step 3: Create a DataFrame\n",
        "df = pd.DataFrame({'Value': data})\n",
        "\n",
        "# Step 4: Store original values for plotting before imputation\n",
        "before_imputation = df['Value'].copy()\n",
        "\n",
        "# Step 5: Fill missing values with column mean\n",
        "mean_value = df['Value'].mean()\n",
        "df['Value'].fillna(mean_value, inplace=True)\n",
        "\n",
        "# Step 6: Plot histograms before and after imputation\n",
        "plt.figure(figsize=(10,5))\n",
        "\n",
        "# Before imputation\n",
        "plt.subplot(1, 2, 1)\n",
        "plt.hist(before_imputation.dropna(), bins=30, edgecolor='black')\n",
        "plt.title(\"Before Imputation\")\n",
        "plt.xlabel(\"Value\")\n",
        "plt.ylabel(\"Frequency\")\n",
        "\n",
        "# After imputation\n",
        "plt.subplot(1, 2, 2)\n",
        "plt.hist(df['Value'], bins=30, edgecolor='black')\n",
        "plt.title(\"After Imputation\")\n",
        "plt.xlabel(\"Value\")\n",
        "plt.ylabel(\"Frequency\")\n",
        "\n",
        "plt.tight_layout()\n",
        "plt.show()\n",
        "\n"
      ],
      "metadata": {
        "colab": {
          "base_uri": "https://localhost:8080/",
          "height": 605
        },
        "id": "ggNc0f2K73kY",
        "outputId": "839e7b97-305e-4f17-9864-12fb710fd54c"
      },
      "execution_count": 4,
      "outputs": [
        {
          "output_type": "stream",
          "name": "stderr",
          "text": [
            "/tmp/ipython-input-2629546543.py:27: FutureWarning: A value is trying to be set on a copy of a DataFrame or Series through chained assignment using an inplace method.\n",
            "The behavior will change in pandas 3.0. This inplace method will never work because the intermediate object on which we are setting values always behaves as a copy.\n",
            "\n",
            "For example, when doing 'df[col].method(value, inplace=True)', try using 'df.method({col: value}, inplace=True)' or df[col] = df[col].method(value) instead, to perform the operation inplace on the original object.\n",
            "\n",
            "\n",
            "  df['Value'].fillna(mean_value, inplace=True)\n"
          ]
        },
        {
          "output_type": "display_data",
          "data": {
            "text/plain": [
              "<Figure size 1000x500 with 2 Axes>"
            ],
            "image/png": "[encoded data removed]"
          },
          "metadata": {}
        }
      ]
    },
    {
      "cell_type": "code",
      "source": [
        "# Question 10) Implement Min-Max scaling on the following list of numbers [2, 5, 10, 15,\n",
        "# 20]\n",
        "#using sklearn.preprocessing.MinMaxScaler.\n",
        "#Print the scaled array.\n",
        "\n",
        "from sklearn.preprocessing import MinMaxScaler\n",
        "import numpy as np\n",
        "\n",
        "data = np.array([[2], [5], [10], [15], [20]])\n",
        "\n",
        "\n",
        "scaler = MinMaxScaler()\n",
        "\n",
        "scaled_data = scaler.fit_transform(data)\n",
        "\n",
        "print(scaled_data)"
      ],
      "metadata": {
        "colab": {
          "base_uri": "https://localhost:8080/"
        },
        "id": "3fskT8xZ8N-T",
        "outputId": "58f6baef-7a9a-4f61-ff14-324b0501a391"
      },
      "execution_count": 6,
      "outputs": [
        {
          "output_type": "stream",
          "name": "stdout",
          "text": [
            "[[0.        ]\n",
            " [0.16666667]\n",
            " [0.44444444]\n",
            " [0.72222222]\n",
            " [1.        ]]\n"
          ]
        }
      ]
    }
  ]
}